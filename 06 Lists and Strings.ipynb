{
 "cells": [
  {
   "cell_type": "markdown",
   "metadata": {},
   "source": [
    "# Lists and strings"
   ]
  },
  {
   "cell_type": "code",
   "execution_count": 20,
   "metadata": {},
   "outputs": [
    {
     "name": "stdout",
     "output_type": "stream",
     "text": [
      "I\n",
      "J\n",
      "O\n",
      "H\n",
      "N\n",
      "J\n",
      "D\n",
      "G\n",
      "G\n",
      "G\n"
     ]
    }
   ],
   "source": [
    "names = [\"Ivy\",\"Janet\",\"Oliver\",\"Harry\",\"Noah\",\"Josh\",\"Dom\",\"Gokhan\",\"Goksan\",\"George\"]\n",
    "\n",
    "for i in range(len(names)):\n",
    "    print(names[i])\n",
    "    "
   ]
  },
  {
   "cell_type": "markdown",
   "metadata": {},
   "source": [
    "### Print values with EVEN array index values"
   ]
  },
  {
   "cell_type": "code",
   "execution_count": 12,
   "metadata": {},
   "outputs": [
    {
     "name": "stdout",
     "output_type": "stream",
     "text": [
      "Ivy\n",
      "Oliver\n",
      "Noah\n",
      "Dom\n",
      "Goksan\n"
     ]
    }
   ],
   "source": [
    "names = [\"Ivy\",\"Janet\",\"Oliver\",\"Harry\",\"Noah\",\"Josh\",\"Dom\",\"Gokhan\",\"Goksan\",\"George\"]\n",
    "\n",
    "for i in range(len(names)):\n",
    "    if i % 2 ==0:\n",
    "        print(names[i])\n",
    "    "
   ]
  },
  {
   "cell_type": "markdown",
   "metadata": {},
   "source": [
    "### Randomly pick one “box” and print its value"
   ]
  },
  {
   "cell_type": "code",
   "execution_count": 25,
   "metadata": {},
   "outputs": [
    {
     "name": "stdout",
     "output_type": "stream",
     "text": [
      "Harry\n",
      "George\n",
      "Oliver\n",
      "Harry\n",
      "George\n",
      "Josh\n",
      "Josh\n",
      "Gokhan\n",
      "Ivy\n",
      "Noah\n"
     ]
    }
   ],
   "source": [
    "import random\n",
    "\n",
    "names = [\"Ivy\",\"Janet\",\"Oliver\",\"Harry\",\"Noah\",\"Josh\",\"Dom\",\"Gokhan\",\"Goksan\",\"George\"]\n",
    "\n",
    "for i in range(len(names)):\n",
    "    print(random.choice(names))\n",
    "    "
   ]
  },
  {
   "cell_type": "markdown",
   "metadata": {},
   "source": [
    "### Use a for loop backwards to print a list backwards"
   ]
  },
  {
   "cell_type": "code",
   "execution_count": 45,
   "metadata": {},
   "outputs": [
    {
     "name": "stdout",
     "output_type": "stream",
     "text": [
      "egroeG\n",
      "naskoG\n",
      "nahkoG\n",
      "moD\n",
      "hsoJ\n",
      "haoN\n",
      "yrraH\n",
      "revilO\n",
      "tenaJ\n",
      "yvI\n"
     ]
    }
   ],
   "source": [
    "names = [\"Ivy\",\"Janet\",\"Oliver\",\"Harry\",\"Noah\",\"Josh\",\"Dom\",\"Gokhan\",\"Goksan\",\"George\"]\n",
    "\n",
    "for i in reversed(range(len(names))):\n",
    "    print (names[i][::-1])"
   ]
  },
  {
   "cell_type": "markdown",
   "metadata": {},
   "source": [
    "### Step through a list of word Print only the LAST letter of each word"
   ]
  },
  {
   "cell_type": "code",
   "execution_count": 29,
   "metadata": {},
   "outputs": [
    {
     "name": "stdout",
     "output_type": "stream",
     "text": [
      "y\n",
      "t\n",
      "r\n",
      "y\n",
      "h\n",
      "h\n",
      "m\n",
      "n\n",
      "n\n",
      "e\n"
     ]
    }
   ],
   "source": [
    "names = [\"Ivy\",\"Janet\",\"Oliver\",\"Harry\",\"Noah\",\"Josh\",\"Dom\",\"Gokhan\",\"Goksan\",\"George\"]\n",
    "\n",
    "for i in range(len(names)):\n",
    "    print (names[i][-1])"
   ]
  },
  {
   "cell_type": "markdown",
   "metadata": {},
   "source": [
    "### Step through a list of word Print a random letter of each word"
   ]
  },
  {
   "cell_type": "code",
   "execution_count": 43,
   "metadata": {},
   "outputs": [
    {
     "name": "stdout",
     "output_type": "stream",
     "text": [
      "I\n",
      "r\n",
      "o\n",
      "r\n",
      "k\n",
      "a\n",
      "v\n",
      "m\n",
      "y\n",
      "e\n"
     ]
    }
   ],
   "source": [
    "import random\n",
    "\n",
    "names = [\"Ivy\",\"Janet\",\"Oliver\",\"Harry\",\"Noah\",\"Josh\",\"Dom\",\"Gokhan\",\"Goksan\",\"George\"]\n",
    "\n",
    "for i in range(len(names)):\n",
    "    print (random.choice(random.choice(names)))\n",
    "    "
   ]
  },
  {
   "cell_type": "markdown",
   "metadata": {},
   "source": [
    "### Append - Extend"
   ]
  },
  {
   "cell_type": "code",
   "execution_count": 20,
   "metadata": {},
   "outputs": [
    {
     "name": "stdout",
     "output_type": "stream",
     "text": [
      "['one', 2, 'three']\n",
      "['one', 2, 'three', [1, 32, 4]]\n",
      "['one', 2, 'three', [1, 32, 4]]\n",
      "[1, 2, 3, ['one', 2, 'three', [1, 32, 4]]]\n"
     ]
    }
   ],
   "source": [
    "firstList = [\"one\",2,\"three\"]\n",
    "\n",
    "print (firstList)\n",
    "\n",
    "#.append adds an item to a list - if multiple need to put it in square brackets \n",
    "\n",
    "firstList.append([1,32,4])\n",
    "\n",
    "print(firstList)\n",
    "\n",
    "\n",
    "secondList =[1,2,3]\n",
    "\n",
    "print(firstList)\n",
    "\n",
    "#.extend adds a list into a list\n",
    "\n",
    "secondList.extend([firstList])\n",
    "\n",
    "print(secondList)"
   ]
  },
  {
   "cell_type": "markdown",
   "metadata": {},
   "source": [
    "### Remove"
   ]
  },
  {
   "cell_type": "code",
   "execution_count": null,
   "metadata": {},
   "outputs": [],
   "source": [
    "#Remove the item in the list which matches the item in the bracket - only the first one\n",
    "\n",
    "firstL = [1,2,3,4,5,3]\n",
    "\n",
    "print (firstL)\n",
    "\n",
    "firstL.remove(3)\n",
    "\n",
    "print (firstL)"
   ]
  },
  {
   "cell_type": "markdown",
   "metadata": {},
   "source": [
    "### Pop"
   ]
  },
  {
   "cell_type": "code",
   "execution_count": 18,
   "metadata": {},
   "outputs": [
    {
     "name": "stdout",
     "output_type": "stream",
     "text": [
      "[1, 2, 3, 4, 5, 3]\n",
      "[1, 2, 3, 4, 5]\n",
      "[1, 2, 3, 5]\n"
     ]
    }
   ],
   "source": [
    "#Pop removes the index item which is specified in the brackets\n",
    "# If no index specified in the brackets it will remove the last item in the list\n",
    "\n",
    "firstL = [1,2,3,4,5,3]\n",
    "\n",
    "print (firstL)\n",
    "\n",
    "firstL.pop()\n",
    "\n",
    "print (firstL)\n",
    "\n",
    "firstL.pop(3)\n",
    "\n",
    "print (firstL)"
   ]
  },
  {
   "cell_type": "markdown",
   "metadata": {},
   "source": [
    "### Delete"
   ]
  },
  {
   "cell_type": "code",
   "execution_count": 24,
   "metadata": {},
   "outputs": [
    {
     "name": "stdout",
     "output_type": "stream",
     "text": [
      "[1, 2, 3, 4, 5, 3]\n",
      "[1, 2, 3, 5, 3]\n"
     ]
    }
   ],
   "source": [
    "#Del deletes an item by its index number\n",
    "\n",
    "firstL = [1,2,3,4,5,3]\n",
    "\n",
    "print (firstL)\n",
    "\n",
    "del firstL[3]\n",
    " \n",
    "print(firstL)"
   ]
  },
  {
   "cell_type": "markdown",
   "metadata": {},
   "source": [
    "### Insert"
   ]
  },
  {
   "cell_type": "code",
   "execution_count": 26,
   "metadata": {},
   "outputs": [
    {
     "name": "stdout",
     "output_type": "stream",
     "text": [
      "[1, 2, 3, 4, 5, 3]\n",
      "[1, 2, 3, 4, 5, 4, 3]\n"
     ]
    }
   ],
   "source": [
    "#Insert insert a value (index of value which you will input before, what value)\n",
    "\n",
    "firstL = [1,2,3,4,5,3]\n",
    "\n",
    "print (firstL)\n",
    "\n",
    "firstL.insert(5,4)\n",
    "\n",
    "print(firstL)"
   ]
  },
  {
   "cell_type": "markdown",
   "metadata": {},
   "source": [
    "### Replace"
   ]
  },
  {
   "cell_type": "code",
   "execution_count": null,
   "metadata": {},
   "outputs": [],
   "source": [
    "#Replace  \n",
    "\n",
    "firstL = [1,2,3,4,5,3]\n",
    "\n",
    "print (firstL)"
   ]
  },
  {
   "cell_type": "markdown",
   "metadata": {},
   "source": [
    "### Index"
   ]
  },
  {
   "cell_type": "code",
   "execution_count": null,
   "metadata": {},
   "outputs": [],
   "source": [
    "firstL = [1,2,3,4,5,3]\n",
    "\n",
    "print (firstL)"
   ]
  },
  {
   "cell_type": "markdown",
   "metadata": {},
   "source": [
    "### In"
   ]
  },
  {
   "cell_type": "code",
   "execution_count": null,
   "metadata": {},
   "outputs": [],
   "source": [
    "firstL = [1,2,3,4,5,3]\n",
    "\n",
    "print (firstL)"
   ]
  },
  {
   "cell_type": "markdown",
   "metadata": {},
   "source": [
    "### Find"
   ]
  },
  {
   "cell_type": "code",
   "execution_count": null,
   "metadata": {},
   "outputs": [],
   "source": [
    "firstL = [1,2,3,4,5,3]\n",
    "\n",
    "print (firstL)"
   ]
  },
  {
   "cell_type": "markdown",
   "metadata": {},
   "source": [
    "### Choice"
   ]
  },
  {
   "cell_type": "code",
   "execution_count": null,
   "metadata": {},
   "outputs": [],
   "source": [
    "firstL = [1,2,3,4,5,3]\n",
    "\n",
    "print (firstL)"
   ]
  }
 ],
 "metadata": {
  "kernelspec": {
   "display_name": "Python 3",
   "language": "python",
   "name": "python3"
  },
  "language_info": {
   "codemirror_mode": {
    "name": "ipython",
    "version": 3
   },
   "file_extension": ".py",
   "mimetype": "text/x-python",
   "name": "python",
   "nbconvert_exporter": "python",
   "pygments_lexer": "ipython3",
   "version": "3.5.2"
  }
 },
 "nbformat": 4,
 "nbformat_minor": 2
}
