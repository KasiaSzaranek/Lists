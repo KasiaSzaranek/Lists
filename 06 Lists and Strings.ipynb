{
 "cells": [
  {
   "cell_type": "markdown",
   "metadata": {},
   "source": [
    "# Lists and strings"
   ]
  },
  {
   "cell_type": "code",
   "execution_count": 20,
   "metadata": {},
   "outputs": [
    {
     "name": "stdout",
     "output_type": "stream",
     "text": [
      "I\n",
      "J\n",
      "O\n",
      "H\n",
      "N\n",
      "J\n",
      "D\n",
      "G\n",
      "G\n",
      "G\n"
     ]
    }
   ],
   "source": [
    "names = [\"Ivy\",\"Janet\",\"Oliver\",\"Harry\",\"Noah\",\"Josh\",\"Dom\",\"Gokhan\",\"Goksan\",\"George\"]\n",
    "\n",
    "for i in range(len(names)):\n",
    "    print(names[i])\n",
    "    "
   ]
  },
  {
   "cell_type": "markdown",
   "metadata": {},
   "source": [
    "### Print values with EVEN array index values"
   ]
  },
  {
   "cell_type": "code",
   "execution_count": 12,
   "metadata": {},
   "outputs": [
    {
     "name": "stdout",
     "output_type": "stream",
     "text": [
      "Ivy\n",
      "Oliver\n",
      "Noah\n",
      "Dom\n",
      "Goksan\n"
     ]
    }
   ],
   "source": [
    "names = [\"Ivy\",\"Janet\",\"Oliver\",\"Harry\",\"Noah\",\"Josh\",\"Dom\",\"Gokhan\",\"Goksan\",\"George\"]\n",
    "\n",
    "for i in range(len(names)):\n",
    "    if i % 2 ==0:\n",
    "        print(names[i])\n",
    "    "
   ]
  },
  {
   "cell_type": "markdown",
   "metadata": {},
   "source": [
    "### Randomly pick one “box” and print its value"
   ]
  },
  {
   "cell_type": "code",
   "execution_count": 25,
   "metadata": {},
   "outputs": [
    {
     "name": "stdout",
     "output_type": "stream",
     "text": [
      "Harry\n",
      "George\n",
      "Oliver\n",
      "Harry\n",
      "George\n",
      "Josh\n",
      "Josh\n",
      "Gokhan\n",
      "Ivy\n",
      "Noah\n"
     ]
    }
   ],
   "source": [
    "import random\n",
    "\n",
    "names = [\"Ivy\",\"Janet\",\"Oliver\",\"Harry\",\"Noah\",\"Josh\",\"Dom\",\"Gokhan\",\"Goksan\",\"George\"]\n",
    "\n",
    "for i in range(len(names)):\n",
    "    print(random.choice(names))\n",
    "    "
   ]
  },
  {
   "cell_type": "markdown",
   "metadata": {},
   "source": [
    "### Use a for loop backwards to print a list backwards"
   ]
  },
  {
   "cell_type": "code",
   "execution_count": 45,
   "metadata": {},
   "outputs": [
    {
     "name": "stdout",
     "output_type": "stream",
     "text": [
      "egroeG\n",
      "naskoG\n",
      "nahkoG\n",
      "moD\n",
      "hsoJ\n",
      "haoN\n",
      "yrraH\n",
      "revilO\n",
      "tenaJ\n",
      "yvI\n"
     ]
    }
   ],
   "source": [
    "names = [\"Ivy\",\"Janet\",\"Oliver\",\"Harry\",\"Noah\",\"Josh\",\"Dom\",\"Gokhan\",\"Goksan\",\"George\"]\n",
    "\n",
    "for i in reversed(range(len(names))):\n",
    "    print (names[i][::-1])"
   ]
  },
  {
   "cell_type": "markdown",
   "metadata": {},
   "source": [
    "### Step through a list of word Print only the LAST letter of each word"
   ]
  },
  {
   "cell_type": "code",
   "execution_count": 29,
   "metadata": {},
   "outputs": [
    {
     "name": "stdout",
     "output_type": "stream",
     "text": [
      "y\n",
      "t\n",
      "r\n",
      "y\n",
      "h\n",
      "h\n",
      "m\n",
      "n\n",
      "n\n",
      "e\n"
     ]
    }
   ],
   "source": [
    "names = [\"Ivy\",\"Janet\",\"Oliver\",\"Harry\",\"Noah\",\"Josh\",\"Dom\",\"Gokhan\",\"Goksan\",\"George\"]\n",
    "\n",
    "for i in range(len(names)):\n",
    "    print (names[i][-1])"
   ]
  },
  {
   "cell_type": "markdown",
   "metadata": {},
   "source": [
    "### Step through a list of word Print a random letter of each word"
   ]
  },
  {
   "cell_type": "code",
   "execution_count": 43,
   "metadata": {},
   "outputs": [
    {
     "name": "stdout",
     "output_type": "stream",
     "text": [
      "I\n",
      "r\n",
      "o\n",
      "r\n",
      "k\n",
      "a\n",
      "v\n",
      "m\n",
      "y\n",
      "e\n"
     ]
    }
   ],
   "source": [
    "import random\n",
    "\n",
    "names = [\"Ivy\",\"Janet\",\"Oliver\",\"Harry\",\"Noah\",\"Josh\",\"Dom\",\"Gokhan\",\"Goksan\",\"George\"]\n",
    "\n",
    "for i in range(len(names)):\n",
    "    print (random.choice(random.choice(names)))\n",
    "    "
   ]
  }
 ],
 "metadata": {
  "kernelspec": {
   "display_name": "Python 3",
   "language": "python",
   "name": "python3"
  },
  "language_info": {
   "codemirror_mode": {
    "name": "ipython",
    "version": 3
   },
   "file_extension": ".py",
   "mimetype": "text/x-python",
   "name": "python",
   "nbconvert_exporter": "python",
   "pygments_lexer": "ipython3",
   "version": "3.5.2"
  }
 },
 "nbformat": 4,
 "nbformat_minor": 2
}
