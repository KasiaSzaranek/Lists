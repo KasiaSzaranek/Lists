{
 "cells": [
  {
   "cell_type": "markdown",
   "metadata": {},
   "source": [
    "# Strings\n",
    "\n",
    "### Chooses a random letter in the alphabet"
   ]
  },
  {
   "cell_type": "code",
   "execution_count": 1,
   "metadata": {},
   "outputs": [
    {
     "name": "stdout",
     "output_type": "stream",
     "text": [
      "g\n"
     ]
    }
   ],
   "source": [
    "import random\n",
    "\n",
    "alphabet = ['a','b','c','d','e','f','g','h','i','j','k','l','m','n','o','p','q','r','s','t','u','v','w','x','y','z']\n",
    "\n",
    "print (random.choice(alphabet))"
   ]
  },
  {
   "cell_type": "markdown",
   "metadata": {},
   "source": [
    "### Counts the frequency of that random letter in the word"
   ]
  },
  {
   "cell_type": "code",
   "execution_count": 2,
   "metadata": {},
   "outputs": [
    {
     "name": "stdout",
     "output_type": "stream",
     "text": [
      "pseudopseudohypoparathyroidism\n",
      "a = 2\n",
      "d = 3\n",
      "e = 2\n",
      "h = 2\n",
      "i = 2\n",
      "m = 1\n",
      "o = 4\n",
      "p = 4\n",
      "r = 2\n",
      "s = 3\n",
      "t = 1\n",
      "u = 2\n",
      "y = 2\n"
     ]
    }
   ],
   "source": [
    "word = (\"PSEUDOPSEUDOHYPOPARATHYROIDISM\")\n",
    "\n",
    "word = word.lower()\n",
    "\n",
    "print (word)\n",
    "\n",
    "alphabet = ['a','b','c','d','e','f','g','h','i','j','k','l','m','n','o','p','q','r','s','t','u','v','w','x','y','z']\n",
    "\n",
    "for letter in alphabet:\n",
    "    \n",
    "    if letter in word:\n",
    "        \n",
    "        amount = str(word.count(letter))\n",
    "        \n",
    "        print(letter + \" = \" + amount)"
   ]
  },
  {
   "cell_type": "markdown",
   "metadata": {},
   "source": [
    "### The program should either tell the user that that letter was not in the word or print the letter and its frequency. "
   ]
  },
  {
   "cell_type": "code",
   "execution_count": 3,
   "metadata": {},
   "outputs": [
    {
     "name": "stdout",
     "output_type": "stream",
     "text": [
      "program\n",
      "a = 1\n",
      "b not in the word\n",
      "c not in the word\n",
      "d not in the word\n",
      "e not in the word\n",
      "f not in the word\n",
      "g = 1\n",
      "h not in the word\n",
      "i not in the word\n",
      "j not in the word\n",
      "k not in the word\n",
      "l not in the word\n",
      "m = 1\n",
      "n not in the word\n",
      "o = 1\n",
      "p = 1\n",
      "q not in the word\n",
      "r = 2\n",
      "s not in the word\n",
      "t not in the word\n",
      "u not in the word\n",
      "v not in the word\n",
      "w not in the word\n",
      "x not in the word\n",
      "y not in the word\n",
      "z not in the word\n"
     ]
    }
   ],
   "source": [
    "word = (\"Program\")\n",
    "\n",
    "word = word.lower()\n",
    "\n",
    "print (word)\n",
    "\n",
    "alphabet = ['a','b','c','d','e','f','g','h','i','j','k','l','m','n','o','p','q','r','s','t','u','v','w','x','y','z']\n",
    "\n",
    "for letter in alphabet:\n",
    "    \n",
    "    if letter in word:\n",
    "        \n",
    "        amount = str(word.count(letter))\n",
    "        \n",
    "        print(letter + \" = \" + amount)\n",
    "        \n",
    "    if letter not in word:\n",
    "        \n",
    "        amount = str(word.count(letter))\n",
    "        \n",
    "        print(letter + \" not in the word\")"
   ]
  },
  {
   "cell_type": "markdown",
   "metadata": {},
   "source": [
    "### Write a function that creates a STRONG password for a user, given a simple word that the user enters. It used the following algorithm:\n",
    "1) Each I in the word is replaced with a 1\n",
    "\n",
    "2) Each S in the word is replaced with a 5"
   ]
  },
  {
   "cell_type": "code",
   "execution_count": 4,
   "metadata": {},
   "outputs": [
    {
     "name": "stdout",
     "output_type": "stream",
     "text": [
      "Input a password: pas\n",
      "pa5\n"
     ]
    }
   ],
   "source": [
    "password = input(\"Input a password: \")\n",
    "\n",
    "password = password.replace(\"i\" or \"I\", '1',)\n",
    "password = password.replace(\"I\", '1',)\n",
    "password = password.replace(\"S\", \"5\")\n",
    "password = password.replace(\"s\", \"5\")\n",
    "\n",
    "print (password)"
   ]
  },
  {
   "cell_type": "markdown",
   "metadata": {},
   "source": [
    "3) The length of the word is appended to the end of the password."
   ]
  },
  {
   "cell_type": "code",
   "execution_count": 10,
   "metadata": {},
   "outputs": [
    {
     "name": "stdout",
     "output_type": "stream",
     "text": [
      "Input a password: mathematics\n",
      "11\n",
      "mathematics11\n"
     ]
    }
   ],
   "source": [
    "password = input (\"Input a password: \")\n",
    "\n",
    "print (len(password))\n",
    "\n",
    "length = str(len(password))\n",
    "\n",
    "print (password + length )"
   ]
  }
 ],
 "metadata": {
  "kernelspec": {
   "display_name": "Python 3",
   "language": "python",
   "name": "python3"
  },
  "language_info": {
   "codemirror_mode": {
    "name": "ipython",
    "version": 3
   },
   "file_extension": ".py",
   "mimetype": "text/x-python",
   "name": "python",
   "nbconvert_exporter": "python",
   "pygments_lexer": "ipython3",
   "version": "3.5.2"
  }
 },
 "nbformat": 4,
 "nbformat_minor": 2
}
