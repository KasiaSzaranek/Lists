{
 "cells": [
  {
   "cell_type": "markdown",
   "metadata": {},
   "source": [
    "# Strings\n",
    "\n",
    "### Chooses a random letter in the alphabet"
   ]
  },
  {
   "cell_type": "code",
   "execution_count": null,
   "metadata": {},
   "outputs": [],
   "source": [
    "import random\n",
    "\n",
    "alphabet = ['a','b','c','d','e','f','g','h','i','j','k','l','m','n','o','p','q','r','s','t','u','v','w','x','y','z']\n",
    "\n",
    "print (random.choice(alphabet))"
   ]
  },
  {
   "cell_type": "markdown",
   "metadata": {},
   "source": [
    "### Counts the frequency of that random letter in the word"
   ]
  },
  {
   "cell_type": "code",
   "execution_count": null,
   "metadata": {},
   "outputs": [],
   "source": [
    "word = (\"PSEUDOPSEUDOHYPOPARATHYROIDISM\")\n",
    "\n",
    "word = word.lower()\n",
    "\n",
    "print (word)\n",
    "\n",
    "alphabet = ['a','b','c','d','e','f','g','h','i','j','k','l','m','n','o','p','q','r','s','t','u','v','w','x','y','z']\n",
    "\n",
    "for letter in alphabet:\n",
    "    \n",
    "    if letter in word:\n",
    "        \n",
    "        amount = str(word.count(letter))\n",
    "        \n",
    "        print(letter + \" = \" + amount)"
   ]
  },
  {
   "cell_type": "markdown",
   "metadata": {},
   "source": [
    "### The program should either tell the user that that letter was not in the word or print the letter and its frequency. "
   ]
  },
  {
   "cell_type": "code",
   "execution_count": null,
   "metadata": {},
   "outputs": [],
   "source": [
    "word = (\"Program\")\n",
    "\n",
    "word = word.lower()\n",
    "\n",
    "print (word)\n",
    "\n",
    "alphabet = ['a','b','c','d','e','f','g','h','i','j','k','l','m','n','o','p','q','r','s','t','u','v','w','x','y','z']\n",
    "\n",
    "for letter in alphabet:\n",
    "    \n",
    "    if letter in word:\n",
    "        \n",
    "        amount = str(word.count(letter))\n",
    "        \n",
    "        print(letter + \" = \" + amount)\n",
    "        \n",
    "    if letter not in word:\n",
    "        \n",
    "        amount = str(word.count(letter))\n",
    "        \n",
    "        print(letter + \" not in the word\")"
   ]
  },
  {
   "cell_type": "markdown",
   "metadata": {},
   "source": [
    "### Write a function that creates a STRONG password for a user, given a simple word that the user enters. It used the following algorithm:\n",
    "1) Each I in the word is replaced with a 1\n",
    "\n",
    "2) Each S in the word is replaced with a 5"
   ]
  },
  {
   "cell_type": "code",
   "execution_count": null,
   "metadata": {},
   "outputs": [],
   "source": [
    "password = input(\"Input a password: \")\n",
    "\n",
    "password = password.replace(\"i\", '1',)\n",
    "password = password.replace(\"I\", '1',)\n",
    "password = password.replace(\"S\", \"5\")\n",
    "password = password.replace(\"s\", \"5\")\n",
    "\n",
    "print (password)"
   ]
  },
  {
   "cell_type": "markdown",
   "metadata": {},
   "source": [
    "3) The length of the word is appended to the end of the password."
   ]
  },
  {
   "cell_type": "code",
   "execution_count": null,
   "metadata": {},
   "outputs": [],
   "source": [
    "password = input (\"Input a password: \")\n",
    "\n",
    "print (len(password))\n",
    "\n",
    "length = str(len(password))\n",
    "\n",
    "print (password + length )"
   ]
  },
  {
   "cell_type": "markdown",
   "metadata": {},
   "source": [
    "### List slicing"
   ]
  },
  {
   "cell_type": "code",
   "execution_count": null,
   "metadata": {},
   "outputs": [],
   "source": [
    "myList = ['ana', 'ben', 'carli', 'dee', 'elaine', 'fred', 'gustas', 'oliver']\n",
    "\n",
    "#0 till the 6th index/7th value\n",
    "print(myList[0:7])\n",
    "\n",
    "#0 till the end of the list\n",
    "print(myList[0:len(myList)])\n",
    "\n",
    "#from 1st till 5th value\n",
    "print(myList[1:5])\n",
    "\n",
    "#every single value\n",
    "print(myList[:])\n",
    "\n",
    "#empty list\n",
    "print(myList[4:2])\n",
    "\n",
    "#backwards list from 4 to 2\n",
    "print(myList[4:2:-1])\n",
    "\n",
    "#from 4th value - exept last 2\n",
    "print(myList[4:-2])\n",
    "\n",
    "#whole array backwards exept last one\n",
    "print(myList[len(myList):0:-1])\n",
    "\n",
    "#they whole array backwards\n",
    "print(myList[len(myList)::-1])"
   ]
  }
 ],
 "metadata": {
  "kernelspec": {
   "display_name": "Python 3",
   "language": "python",
   "name": "python3"
  },
  "language_info": {
   "codemirror_mode": {
    "name": "ipython",
    "version": 3
   },
   "file_extension": ".py",
   "mimetype": "text/x-python",
   "name": "python",
   "nbconvert_exporter": "python",
   "pygments_lexer": "ipython3",
   "version": "3.5.2"
  }
 },
 "nbformat": 4,
 "nbformat_minor": 2
}
