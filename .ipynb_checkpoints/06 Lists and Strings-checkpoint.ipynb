{
 "cells": [
  {
   "cell_type": "markdown",
   "metadata": {},
   "source": [
    "# Lists and strings"
   ]
  },
  {
   "cell_type": "code",
   "execution_count": 20,
   "metadata": {},
   "outputs": [
    {
     "name": "stdout",
     "output_type": "stream",
     "text": [
      "I\n",
      "J\n",
      "O\n",
      "H\n",
      "N\n",
      "J\n",
      "D\n",
      "G\n",
      "G\n",
      "G\n"
     ]
    }
   ],
   "source": [
    "names = [\"Ivy\",\"Janet\",\"Oliver\",\"Harry\",\"Noah\",\"Josh\",\"Dom\",\"Gokhan\",\"Goksan\",\"George\"]\n",
    "\n",
    "for i in range(len(names)):\n",
    "    print(names[i])\n",
    "    "
   ]
  },
  {
   "cell_type": "code",
   "execution_count": 12,
   "metadata": {},
   "outputs": [
    {
     "name": "stdout",
     "output_type": "stream",
     "text": [
      "Ivy\n",
      "Oliver\n",
      "Noah\n",
      "Dom\n",
      "Goksan\n"
     ]
    }
   ],
   "source": [
    "names = [\"Ivy\",\"Janet\",\"Oliver\",\"Harry\",\"Noah\",\"Josh\",\"Dom\",\"Gokhan\",\"Goksan\",\"George\"]\n",
    "\n",
    "for i in range(len(names)):\n",
    "    if i % 2 ==0:\n",
    "        print(names[i])\n",
    "    "
   ]
  },
  {
   "cell_type": "code",
   "execution_count": 25,
   "metadata": {},
   "outputs": [
    {
     "name": "stdout",
     "output_type": "stream",
     "text": [
      "Harry\n",
      "George\n",
      "Oliver\n",
      "Harry\n",
      "George\n",
      "Josh\n",
      "Josh\n",
      "Gokhan\n",
      "Ivy\n",
      "Noah\n"
     ]
    }
   ],
   "source": [
    "import random\n",
    "\n",
    "names = [\"Ivy\",\"Janet\",\"Oliver\",\"Harry\",\"Noah\",\"Josh\",\"Dom\",\"Gokhan\",\"Goksan\",\"George\"]\n",
    "\n",
    "for i in range(len(names)):\n",
    "    print(random.choice(names))\n",
    "    "
   ]
  },
  {
   "cell_type": "code",
   "execution_count": 27,
   "metadata": {},
   "outputs": [
    {
     "name": "stdout",
     "output_type": "stream",
     "text": [
      "yvI\n",
      "tenaJ\n",
      "revilO\n",
      "yrraH\n",
      "haoN\n",
      "hsoJ\n",
      "moD\n",
      "nahkoG\n",
      "naskoG\n",
      "egroeG\n"
     ]
    }
   ],
   "source": [
    "names = [\"Ivy\",\"Janet\",\"Oliver\",\"Harry\",\"Noah\",\"Josh\",\"Dom\",\"Gokhan\",\"Goksan\",\"George\"]\n",
    "\n",
    "for i in range(len(names)):\n",
    "    print (names[i][::-1])"
   ]
  },
  {
   "cell_type": "code",
   "execution_count": 29,
   "metadata": {},
   "outputs": [
    {
     "name": "stdout",
     "output_type": "stream",
     "text": [
      "y\n",
      "t\n",
      "r\n",
      "y\n",
      "h\n",
      "h\n",
      "m\n",
      "n\n",
      "n\n",
      "e\n"
     ]
    }
   ],
   "source": [
    "names = [\"Ivy\",\"Janet\",\"Oliver\",\"Harry\",\"Noah\",\"Josh\",\"Dom\",\"Gokhan\",\"Goksan\",\"George\"]\n",
    "\n",
    "for i in range(len(names)):\n",
    "    print (names[i][-1])"
   ]
  },
  {
   "cell_type": "code",
   "execution_count": 43,
   "metadata": {},
   "outputs": [
    {
     "name": "stdout",
     "output_type": "stream",
     "text": [
      "I\n",
      "r\n",
      "o\n",
      "r\n",
      "k\n",
      "a\n",
      "v\n",
      "m\n",
      "y\n",
      "e\n"
     ]
    }
   ],
   "source": [
    "import random\n",
    "\n",
    "names = [\"Ivy\",\"Janet\",\"Oliver\",\"Harry\",\"Noah\",\"Josh\",\"Dom\",\"Gokhan\",\"Goksan\",\"George\"]\n",
    "\n",
    "for i in range(len(names)):\n",
    "    print (random.choice(random.choice(names)))\n",
    "    "
   ]
  }
 ],
 "metadata": {
  "kernelspec": {
   "display_name": "Python 3",
   "language": "python",
   "name": "python3"
  },
  "language_info": {
   "codemirror_mode": {
    "name": "ipython",
    "version": 3
   },
   "file_extension": ".py",
   "mimetype": "text/x-python",
   "name": "python",
   "nbconvert_exporter": "python",
   "pygments_lexer": "ipython3",
   "version": "3.5.2"
  }
 },
 "nbformat": 4,
 "nbformat_minor": 2
}
